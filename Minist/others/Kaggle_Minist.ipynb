{
 "cells": [
  {
   "cell_type": "code",
   "execution_count": 4,
   "metadata": {},
   "outputs": [],
   "source": [
    "import numpy as np\n",
    "import pandas as pd\n",
    "from time import time\n",
    "import matplotlib.pyplot as plt\n",
    "from sklearn.model_selection import GridSearchCV\n",
    "from sklearn.model_selection import train_test_split\n",
    "from sklearn import svm\n",
    "from sklearn.decomposition import PCA\n",
    "from sklearn.preprocessing import MinMaxScaler\n",
    "import warnings\n",
    "warnings.simplefilter(\"ignore\")\n",
    "\n",
    "train = pd.read_csv('/Kaggle/Minist/train.csv')\n",
    "test = pd.read_csv('/Kaggle/Minist/test.csv')"
   ]
  },
  {
   "cell_type": "code",
   "execution_count": 4,
   "metadata": {},
   "outputs": [
    {
     "name": "stdout",
     "output_type": "stream",
     "text": [
      "<class 'pandas.core.frame.DataFrame'>\n",
      "RangeIndex: 42000 entries, 0 to 41999\n",
      "Columns: 785 entries, label to pixel783\n",
      "dtypes: int64(785)\n",
      "memory usage: 251.5 MB\n"
     ]
    }
   ],
   "source": [
    "train.info()"
   ]
  },
  {
   "cell_type": "code",
   "execution_count": 5,
   "metadata": {},
   "outputs": [
    {
     "name": "stdout",
     "output_type": "stream",
     "text": [
      "<class 'pandas.core.frame.DataFrame'>\n",
      "RangeIndex: 28000 entries, 0 to 27999\n",
      "Columns: 784 entries, pixel0 to pixel783\n",
      "dtypes: int64(784)\n",
      "memory usage: 167.5 MB\n"
     ]
    }
   ],
   "source": [
    "test.info()"
   ]
  },
  {
   "cell_type": "code",
   "execution_count": 6,
   "metadata": {},
   "outputs": [
    {
     "data": {
      "text/plain": [
       "count       784\n",
       "unique        1\n",
       "top       False\n",
       "freq        784\n",
       "dtype: object"
      ]
     },
     "execution_count": 6,
     "metadata": {},
     "output_type": "execute_result"
    }
   ],
   "source": [
    "# check missing values\n",
    "train.isnull().any().describe()\n",
    "test.isnull().any().describe()"
   ]
  },
  {
   "cell_type": "code",
   "execution_count": 7,
   "metadata": {},
   "outputs": [
    {
     "name": "stdout",
     "output_type": "stream",
     "text": [
      "(42000, 785)\n",
      "(28000, 784)\n"
     ]
    }
   ],
   "source": [
    "print(train.shape)\n",
    "print(test.shape)"
   ]
  },
  {
   "cell_type": "code",
   "execution_count": 6,
   "metadata": {},
   "outputs": [],
   "source": [
    "# Split the x and y\n",
    "X = train.iloc[:,1:]\n",
    "y = train.iloc[:,0]"
   ]
  },
  {
   "cell_type": "code",
   "execution_count": 7,
   "metadata": {},
   "outputs": [
    {
     "data": {
      "image/png": "[encoded data removed]",
      "text/plain": [
       "<Figure size 720x360 with 10 Axes>"
      ]
     },
     "metadata": {
      "needs_background": "light"
     },
     "output_type": "display_data"
    }
   ],
   "source": [
    "# check the training set\n",
    "plt.figure(figsize = (10,5))\n",
    "\n",
    "for num in range(0,10):\n",
    "    plt.subplot(2,5,num+1)\n",
    "    # reshape vector to matrix\n",
    "    grid_data = X.iloc[num].as_matrix().reshape(28,28)\n",
    "    # display the pictures\n",
    "    plt.imshow(grid_data, interpolation = \"none\", cmap = \"Greys\")"
   ]
  },
  {
   "cell_type": "code",
   "execution_count": 8,
   "metadata": {},
   "outputs": [],
   "source": [
    "# feature engineering\n",
    "# Scaling\n",
    "X = MinMaxScaler().fit_transform(X)\n",
    "test = MinMaxScaler().fit_transform(test)\n",
    "\n",
    "# split data into train_set and test_set\n",
    "X_train, X_test, y_train, y_test = train_test_split(X, y, test_size = 0.1, random_state = 14)"
   ]
  },
  {
   "cell_type": "code",
   "execution_count": 11,
   "metadata": {},
   "outputs": [
    {
     "name": "stderr",
     "output_type": "stream",
     "text": [
      "/anaconda3/lib/python3.6/site-packages/sklearn/svm/base.py:196: FutureWarning: The default value of gamma will change from 'auto' to 'scale' in version 0.22 to account better for unscaled features. Set gamma explicitly to 'auto' or 'scale' to avoid this warning.\n",
      "  \"avoid this warning.\", FutureWarning)\n"
     ]
    },
    {
     "name": "stdout",
     "output_type": "stream",
     "text": [
      "n_components:0.70 , accuracy:0.9750 , time elaps:16.84s\n"
     ]
    },
    {
     "name": "stderr",
     "output_type": "stream",
     "text": [
      "/anaconda3/lib/python3.6/site-packages/sklearn/svm/base.py:196: FutureWarning: The default value of gamma will change from 'auto' to 'scale' in version 0.22 to account better for unscaled features. Set gamma explicitly to 'auto' or 'scale' to avoid this warning.\n",
      "  \"avoid this warning.\", FutureWarning)\n"
     ]
    },
    {
     "name": "stdout",
     "output_type": "stream",
     "text": [
      "n_components:0.71 , accuracy:0.9757 , time elaps:18.47s\n"
     ]
    },
    {
     "name": "stderr",
     "output_type": "stream",
     "text": [
      "/anaconda3/lib/python3.6/site-packages/sklearn/svm/base.py:196: FutureWarning: The default value of gamma will change from 'auto' to 'scale' in version 0.22 to account better for unscaled features. Set gamma explicitly to 'auto' or 'scale' to avoid this warning.\n",
      "  \"avoid this warning.\", FutureWarning)\n"
     ]
    },
    {
     "name": "stdout",
     "output_type": "stream",
     "text": [
      "n_components:0.72 , accuracy:0.9769 , time elaps:17.42s\n"
     ]
    },
    {
     "name": "stderr",
     "output_type": "stream",
     "text": [
      "/anaconda3/lib/python3.6/site-packages/sklearn/svm/base.py:196: FutureWarning: The default value of gamma will change from 'auto' to 'scale' in version 0.22 to account better for unscaled features. Set gamma explicitly to 'auto' or 'scale' to avoid this warning.\n",
      "  \"avoid this warning.\", FutureWarning)\n"
     ]
    },
    {
     "name": "stdout",
     "output_type": "stream",
     "text": [
      "n_components:0.73 , accuracy:0.9760 , time elaps:19.13s\n"
     ]
    },
    {
     "name": "stderr",
     "output_type": "stream",
     "text": [
      "/anaconda3/lib/python3.6/site-packages/sklearn/svm/base.py:196: FutureWarning: The default value of gamma will change from 'auto' to 'scale' in version 0.22 to account better for unscaled features. Set gamma explicitly to 'auto' or 'scale' to avoid this warning.\n",
      "  \"avoid this warning.\", FutureWarning)\n"
     ]
    },
    {
     "name": "stdout",
     "output_type": "stream",
     "text": [
      "n_components:0.74 , accuracy:0.9776 , time elaps:16.75s\n"
     ]
    },
    {
     "name": "stderr",
     "output_type": "stream",
     "text": [
      "/anaconda3/lib/python3.6/site-packages/sklearn/svm/base.py:196: FutureWarning: The default value of gamma will change from 'auto' to 'scale' in version 0.22 to account better for unscaled features. Set gamma explicitly to 'auto' or 'scale' to avoid this warning.\n",
      "  \"avoid this warning.\", FutureWarning)\n"
     ]
    },
    {
     "name": "stdout",
     "output_type": "stream",
     "text": [
      "n_components:0.75 , accuracy:0.9781 , time elaps:18.05s\n"
     ]
    },
    {
     "name": "stderr",
     "output_type": "stream",
     "text": [
      "/anaconda3/lib/python3.6/site-packages/sklearn/svm/base.py:196: FutureWarning: The default value of gamma will change from 'auto' to 'scale' in version 0.22 to account better for unscaled features. Set gamma explicitly to 'auto' or 'scale' to avoid this warning.\n",
      "  \"avoid this warning.\", FutureWarning)\n"
     ]
    },
    {
     "name": "stdout",
     "output_type": "stream",
     "text": [
      "n_components:0.76 , accuracy:0.9781 , time elaps:19.09s\n"
     ]
    },
    {
     "name": "stderr",
     "output_type": "stream",
     "text": [
      "/anaconda3/lib/python3.6/site-packages/sklearn/svm/base.py:196: FutureWarning: The default value of gamma will change from 'auto' to 'scale' in version 0.22 to account better for unscaled features. Set gamma explicitly to 'auto' or 'scale' to avoid this warning.\n",
      "  \"avoid this warning.\", FutureWarning)\n"
     ]
    },
    {
     "name": "stdout",
     "output_type": "stream",
     "text": [
      "n_components:0.77 , accuracy:0.9781 , time elaps:19.22s\n"
     ]
    },
    {
     "name": "stderr",
     "output_type": "stream",
     "text": [
      "/anaconda3/lib/python3.6/site-packages/sklearn/svm/base.py:196: FutureWarning: The default value of gamma will change from 'auto' to 'scale' in version 0.22 to account better for unscaled features. Set gamma explicitly to 'auto' or 'scale' to avoid this warning.\n",
      "  \"avoid this warning.\", FutureWarning)\n"
     ]
    },
    {
     "name": "stdout",
     "output_type": "stream",
     "text": [
      "n_components:0.78 , accuracy:0.9783 , time elaps:23.34s\n"
     ]
    },
    {
     "name": "stderr",
     "output_type": "stream",
     "text": [
      "/anaconda3/lib/python3.6/site-packages/sklearn/svm/base.py:196: FutureWarning: The default value of gamma will change from 'auto' to 'scale' in version 0.22 to account better for unscaled features. Set gamma explicitly to 'auto' or 'scale' to avoid this warning.\n",
      "  \"avoid this warning.\", FutureWarning)\n"
     ]
    },
    {
     "name": "stdout",
     "output_type": "stream",
     "text": [
      "n_components:0.79 , accuracy:0.9776 , time elaps:21.94s\n"
     ]
    },
    {
     "name": "stderr",
     "output_type": "stream",
     "text": [
      "/anaconda3/lib/python3.6/site-packages/sklearn/svm/base.py:196: FutureWarning: The default value of gamma will change from 'auto' to 'scale' in version 0.22 to account better for unscaled features. Set gamma explicitly to 'auto' or 'scale' to avoid this warning.\n",
      "  \"avoid this warning.\", FutureWarning)\n"
     ]
    },
    {
     "name": "stdout",
     "output_type": "stream",
     "text": [
      "n_components:0.80 , accuracy:0.9779 , time elaps:21.75s\n"
     ]
    },
    {
     "name": "stderr",
     "output_type": "stream",
     "text": [
      "/anaconda3/lib/python3.6/site-packages/sklearn/svm/base.py:196: FutureWarning: The default value of gamma will change from 'auto' to 'scale' in version 0.22 to account better for unscaled features. Set gamma explicitly to 'auto' or 'scale' to avoid this warning.\n",
      "  \"avoid this warning.\", FutureWarning)\n"
     ]
    },
    {
     "name": "stdout",
     "output_type": "stream",
     "text": [
      "n_components:0.81 , accuracy:0.9771 , time elaps:21.85s\n"
     ]
    },
    {
     "name": "stderr",
     "output_type": "stream",
     "text": [
      "/anaconda3/lib/python3.6/site-packages/sklearn/svm/base.py:196: FutureWarning: The default value of gamma will change from 'auto' to 'scale' in version 0.22 to account better for unscaled features. Set gamma explicitly to 'auto' or 'scale' to avoid this warning.\n",
      "  \"avoid this warning.\", FutureWarning)\n"
     ]
    },
    {
     "name": "stdout",
     "output_type": "stream",
     "text": [
      "n_components:0.82 , accuracy:0.9774 , time elaps:21.70s\n"
     ]
    },
    {
     "name": "stderr",
     "output_type": "stream",
     "text": [
      "/anaconda3/lib/python3.6/site-packages/sklearn/svm/base.py:196: FutureWarning: The default value of gamma will change from 'auto' to 'scale' in version 0.22 to account better for unscaled features. Set gamma explicitly to 'auto' or 'scale' to avoid this warning.\n",
      "  \"avoid this warning.\", FutureWarning)\n"
     ]
    },
    {
     "name": "stdout",
     "output_type": "stream",
     "text": [
      "n_components:0.83 , accuracy:0.9769 , time elaps:22.03s\n"
     ]
    },
    {
     "name": "stderr",
     "output_type": "stream",
     "text": [
      "/anaconda3/lib/python3.6/site-packages/sklearn/svm/base.py:196: FutureWarning: The default value of gamma will change from 'auto' to 'scale' in version 0.22 to account better for unscaled features. Set gamma explicitly to 'auto' or 'scale' to avoid this warning.\n",
      "  \"avoid this warning.\", FutureWarning)\n"
     ]
    },
    {
     "name": "stdout",
     "output_type": "stream",
     "text": [
      "n_components:0.84 , accuracy:0.9755 , time elaps:23.74s\n"
     ]
    },
    {
     "name": "stderr",
     "output_type": "stream",
     "text": [
      "/anaconda3/lib/python3.6/site-packages/sklearn/svm/base.py:196: FutureWarning: The default value of gamma will change from 'auto' to 'scale' in version 0.22 to account better for unscaled features. Set gamma explicitly to 'auto' or 'scale' to avoid this warning.\n",
      "  \"avoid this warning.\", FutureWarning)\n"
     ]
    },
    {
     "name": "stdout",
     "output_type": "stream",
     "text": [
      "n_components:0.85 , accuracy:0.9748 , time elaps:26.46s\n"
     ]
    },
    {
     "name": "stderr",
     "output_type": "stream",
     "text": [
      "/anaconda3/lib/python3.6/site-packages/sklearn/svm/base.py:196: FutureWarning: The default value of gamma will change from 'auto' to 'scale' in version 0.22 to account better for unscaled features. Set gamma explicitly to 'auto' or 'scale' to avoid this warning.\n",
      "  \"avoid this warning.\", FutureWarning)\n"
     ]
    },
    {
     "name": "stdout",
     "output_type": "stream",
     "text": [
      "n_components:0.86 , accuracy:0.9748 , time elaps:27.28s\n"
     ]
    },
    {
     "name": "stderr",
     "output_type": "stream",
     "text": [
      "/anaconda3/lib/python3.6/site-packages/sklearn/svm/base.py:196: FutureWarning: The default value of gamma will change from 'auto' to 'scale' in version 0.22 to account better for unscaled features. Set gamma explicitly to 'auto' or 'scale' to avoid this warning.\n",
      "  \"avoid this warning.\", FutureWarning)\n"
     ]
    },
    {
     "name": "stdout",
     "output_type": "stream",
     "text": [
      "n_components:0.87 , accuracy:0.9729 , time elaps:29.44s\n"
     ]
    },
    {
     "name": "stderr",
     "output_type": "stream",
     "text": [
      "/anaconda3/lib/python3.6/site-packages/sklearn/svm/base.py:196: FutureWarning: The default value of gamma will change from 'auto' to 'scale' in version 0.22 to account better for unscaled features. Set gamma explicitly to 'auto' or 'scale' to avoid this warning.\n",
      "  \"avoid this warning.\", FutureWarning)\n"
     ]
    },
    {
     "name": "stdout",
     "output_type": "stream",
     "text": [
      "n_components:0.88 , accuracy:0.9721 , time elaps:33.63s\n"
     ]
    },
    {
     "name": "stderr",
     "output_type": "stream",
     "text": [
      "/anaconda3/lib/python3.6/site-packages/sklearn/svm/base.py:196: FutureWarning: The default value of gamma will change from 'auto' to 'scale' in version 0.22 to account better for unscaled features. Set gamma explicitly to 'auto' or 'scale' to avoid this warning.\n",
      "  \"avoid this warning.\", FutureWarning)\n"
     ]
    },
    {
     "name": "stdout",
     "output_type": "stream",
     "text": [
      "n_components:0.89 , accuracy:0.9717 , time elaps:35.40s\n"
     ]
    }
   ],
   "source": [
    "# using PCA for demention reduction\n",
    "all_scores = []\n",
    "# generate n_components list\n",
    "n_components = np.linspace(0.7,0.9,num=20, endpoint=False)\n",
    "\n",
    "def get_accuracy_score(n, X_train, X_test, y_train, y_test):\n",
    "    '''train models with different n components, evaluated with accuracy'''      \n",
    "    t0 = time()\n",
    "    pca = PCA(n_components = n)\n",
    "    pca.fit(X_train)\n",
    "    X_train_pca = pca.transform(X_train)\n",
    "    X_test_pca = pca.transform(X_test)\n",
    "    # choose SVM\n",
    "    clf = svm.SVC()\n",
    "    clf.fit(X_train_pca, y_train)\n",
    "    # Calculate the accuracy\n",
    "    accuracy = clf.score(X_test_pca, y_test)\n",
    "    t1 = time()\n",
    "    print('n_components:{:.2f} , accuracy:{:.4f} , time elaps:{:.2f}s'.format(n, accuracy, t1-t0))\n",
    "    return accuracy \n",
    "\n",
    "for n in n_components:\n",
    "    score = get_accuracy_score(n,X_train, X_test, y_train, y_test)\n",
    "    all_scores.append(score)  \n"
   ]
  },
  {
   "cell_type": "code",
   "execution_count": 9,
   "metadata": {},
   "outputs": [
    {
     "ename": "NameError",
     "evalue": "name 'n_components' is not defined",
     "output_type": "error",
     "traceback": [
      "\u001b[0;31m---------------------------------------------------------------------------\u001b[0m",
      "\u001b[0;31mNameError\u001b[0m                                 Traceback (most recent call last)",
      "\u001b[0;32m<ipython-input-9-d7c70cf802ef>\u001b[0m in \u001b[0;36m<module>\u001b[0;34m\u001b[0m\n\u001b[1;32m      1\u001b[0m \u001b[0;31m# plot a line graph describing the relationship between n_components and accuracies\u001b[0m\u001b[0;34m\u001b[0m\u001b[0;34m\u001b[0m\u001b[0;34m\u001b[0m\u001b[0m\n\u001b[1;32m      2\u001b[0m \u001b[0;31m# when n_components is close to 0.78, got the highest accuracy\u001b[0m\u001b[0;34m\u001b[0m\u001b[0;34m\u001b[0m\u001b[0;34m\u001b[0m\u001b[0m\n\u001b[0;32m----> 3\u001b[0;31m \u001b[0mplt\u001b[0m\u001b[0;34m.\u001b[0m\u001b[0mplot\u001b[0m\u001b[0;34m(\u001b[0m\u001b[0mn_components\u001b[0m\u001b[0;34m,\u001b[0m \u001b[0mall_scores\u001b[0m\u001b[0;34m,\u001b[0m \u001b[0;34m'-o'\u001b[0m\u001b[0;34m)\u001b[0m\u001b[0;34m\u001b[0m\u001b[0;34m\u001b[0m\u001b[0m\n\u001b[0m\u001b[1;32m      4\u001b[0m \u001b[0mplt\u001b[0m\u001b[0;34m.\u001b[0m\u001b[0mxlabel\u001b[0m\u001b[0;34m(\u001b[0m\u001b[0;34m'n_components'\u001b[0m\u001b[0;34m)\u001b[0m\u001b[0;34m\u001b[0m\u001b[0;34m\u001b[0m\u001b[0m\n\u001b[1;32m      5\u001b[0m \u001b[0mplt\u001b[0m\u001b[0;34m.\u001b[0m\u001b[0mylabel\u001b[0m\u001b[0;34m(\u001b[0m\u001b[0;34m'accuracy'\u001b[0m\u001b[0;34m)\u001b[0m\u001b[0;34m\u001b[0m\u001b[0;34m\u001b[0m\u001b[0m\n",
      "\u001b[0;31mNameError\u001b[0m: name 'n_components' is not defined"
     ]
    }
   ],
   "source": [
    "# plot a line graph describing the relationship between n_components and accuracies \n",
    "# when n_components is close to 0.78, got the highest accuracy\n",
    "plt.plot(n_components, all_scores, '-o')\n",
    "plt.xlabel('n_components')\n",
    "plt.ylabel('accuracy')\n",
    "plt.show()"
   ]
  },
  {
   "cell_type": "code",
   "execution_count": 10,
   "metadata": {},
   "outputs": [],
   "source": [
    "# extract false predicted data\n",
    "pca = PCA(n_components = 0.78)\n",
    "pca.fit(X_train)\n",
    "X_train_pca = pca.transform(X_train)\n",
    "X_test_pca = pca.transform(X_test)\n",
    "\n",
    "clf = svm.SVC()\n",
    "clf.fit(X_train_pca, y_train)\n",
    "y_pred = clf.predict(X_test_pca)\n",
    "\n",
    "errors = (y_pred != y_test)\n",
    "y_pred_errors = y_pred[errors]\n",
    "y_test_errors = y_test[errors].values\n",
    "X_test_errors = X_test[errors]"
   ]
  },
  {
   "cell_type": "code",
   "execution_count": 11,
   "metadata": {},
   "outputs": [
    {
     "name": "stdout",
     "output_type": "stream",
     "text": [
      "[5 0 8 6 9]\n",
      "[8 9 6 8 7]\n",
      "[[0. 0. 0. ... 0. 0. 0.]\n",
      " [0. 0. 0. ... 0. 0. 0.]\n",
      " [0. 0. 0. ... 0. 0. 0.]\n",
      " [0. 0. 0. ... 0. 0. 0.]\n",
      " [0. 0. 0. ... 0. 0. 0.]]\n"
     ]
    }
   ],
   "source": [
    "print(y_pred_errors[:5])\n",
    "print(y_test_errors[:5])\n",
    "print(X_test_errors[:5])"
   ]
  },
  {
   "cell_type": "code",
   "execution_count": null,
   "metadata": {},
   "outputs": [
    {
     "data": {
      "image/png": "[encoded data removed]",
      "text/plain": [
       "<Figure size 720x432 with 10 Axes>"
      ]
     },
     "metadata": {
      "needs_background": "light"
     },
     "output_type": "display_data"
    }
   ],
   "source": [
    "# visualized the false predicted data\n",
    "n = 0\n",
    "nrows = 2\n",
    "ncols = 5\n",
    "\n",
    "fig, ax = plt.subplots(nrows,ncols,figsize=(10,6))\n",
    "\n",
    "for row in range(nrows):\n",
    "    for col in range(ncols):\n",
    "        ax[row,col].imshow((X_test_errors[n]).reshape((28,28)), cmap = \"Greys\")\n",
    "        ax[row,col].set_title(\"Predict:{}\\nTrue: {}\".format(y_pred_errors[n],y_test_errors[n]))\n",
    "        n += 1"
   ]
  },
  {
   "cell_type": "code",
   "execution_count": 7,
   "metadata": {},
   "outputs": [
    {
     "name": "stdout",
     "output_type": "stream",
     "text": [
      "39\n"
     ]
    }
   ],
   "source": [
    "# since when n_components equals to 0.78, model accuracy is the best\n",
    "# apply PCA to both train set and test set\n",
    "pca = PCA(n_components=0.78)\n",
    "pca.fit(X)\n",
    "# print n_components\n",
    "print(pca.n_components_)\n",
    "# transform data with PCA\n",
    "X = pca.transform(X)\n",
    "test = pca.transform(test)"
   ]
  },
  {
   "cell_type": "code",
   "execution_count": 8,
   "metadata": {},
   "outputs": [
    {
     "name": "stdout",
     "output_type": "stream",
     "text": [
      "Fitting 5 folds for each of 12 candidates, totalling 60 fits\n",
      "[CV] C=1, kernel=linear ..............................................\n"
     ]
    },
    {
     "name": "stderr",
     "output_type": "stream",
     "text": [
      "[Parallel(n_jobs=1)]: Using backend SequentialBackend with 1 concurrent workers.\n"
     ]
    },
    {
     "name": "stdout",
     "output_type": "stream",
     "text": [
      "[CV] ............................... C=1, kernel=linear, total=  20.9s\n",
      "[CV] C=1, kernel=linear ..............................................\n"
     ]
    },
    {
     "name": "stderr",
     "output_type": "stream",
     "text": [
      "[Parallel(n_jobs=1)]: Done   1 out of   1 | elapsed:   31.2s remaining:    0.0s\n"
     ]
    },
    {
     "name": "stdout",
     "output_type": "stream",
     "text": [
      "[CV] ............................... C=1, kernel=linear, total=  18.3s\n",
      "[CV] C=1, kernel=linear ..............................................\n",
      "[CV] ............................... C=1, kernel=linear, total=  18.3s\n",
      "[CV] C=1, kernel=linear ..............................................\n",
      "[CV] ............................... C=1, kernel=linear, total=  17.3s\n",
      "[CV] C=1, kernel=linear ..............................................\n",
      "[CV] ............................... C=1, kernel=linear, total=  17.0s\n",
      "[CV] C=1, kernel=rbf .................................................\n",
      "[CV] .................................. C=1, kernel=rbf, total=  15.9s\n",
      "[CV] C=1, kernel=rbf .................................................\n",
      "[CV] .................................. C=1, kernel=rbf, total=  14.3s\n",
      "[CV] C=1, kernel=rbf .................................................\n",
      "[CV] .................................. C=1, kernel=rbf, total=  14.0s\n",
      "[CV] C=1, kernel=rbf .................................................\n",
      "[CV] .................................. C=1, kernel=rbf, total=  16.7s\n",
      "[CV] C=1, kernel=rbf .................................................\n",
      "[CV] .................................. C=1, kernel=rbf, total=  15.2s\n",
      "[CV] C=1, kernel=sigmoid .............................................\n",
      "[CV] .............................. C=1, kernel=sigmoid, total=  20.3s\n",
      "[CV] C=1, kernel=sigmoid .............................................\n",
      "[CV] .............................. C=1, kernel=sigmoid, total=  21.9s\n",
      "[CV] C=1, kernel=sigmoid .............................................\n",
      "[CV] .............................. C=1, kernel=sigmoid, total=  21.8s\n",
      "[CV] C=1, kernel=sigmoid .............................................\n",
      "[CV] .............................. C=1, kernel=sigmoid, total=  20.1s\n",
      "[CV] C=1, kernel=sigmoid .............................................\n",
      "[CV] .............................. C=1, kernel=sigmoid, total=  24.9s\n",
      "[CV] C=2, kernel=linear ..............................................\n",
      "[CV] ............................... C=2, kernel=linear, total=  25.9s\n",
      "[CV] C=2, kernel=linear ..............................................\n",
      "[CV] ............................... C=2, kernel=linear, total=  24.5s\n",
      "[CV] C=2, kernel=linear ..............................................\n",
      "[CV] ............................... C=2, kernel=linear, total=  24.0s\n",
      "[CV] C=2, kernel=linear ..............................................\n",
      "[CV] ............................... C=2, kernel=linear, total=  23.0s\n",
      "[CV] C=2, kernel=linear ..............................................\n",
      "[CV] ............................... C=2, kernel=linear, total=  23.3s\n",
      "[CV] C=2, kernel=rbf .................................................\n",
      "[CV] .................................. C=2, kernel=rbf, total=  13.4s\n",
      "[CV] C=2, kernel=rbf .................................................\n",
      "[CV] .................................. C=2, kernel=rbf, total=  13.4s\n",
      "[CV] C=2, kernel=rbf .................................................\n",
      "[CV] .................................. C=2, kernel=rbf, total=  13.0s\n",
      "[CV] C=2, kernel=rbf .................................................\n",
      "[CV] .................................. C=2, kernel=rbf, total=  13.4s\n",
      "[CV] C=2, kernel=rbf .................................................\n",
      "[CV] .................................. C=2, kernel=rbf, total=  13.6s\n",
      "[CV] C=2, kernel=sigmoid .............................................\n",
      "[CV] .............................. C=2, kernel=sigmoid, total=  19.4s\n",
      "[CV] C=2, kernel=sigmoid .............................................\n",
      "[CV] .............................. C=2, kernel=sigmoid, total=  19.2s\n",
      "[CV] C=2, kernel=sigmoid .............................................\n",
      "[CV] .............................. C=2, kernel=sigmoid, total=  19.5s\n",
      "[CV] C=2, kernel=sigmoid .............................................\n",
      "[CV] .............................. C=2, kernel=sigmoid, total=  18.6s\n",
      "[CV] C=2, kernel=sigmoid .............................................\n",
      "[CV] .............................. C=2, kernel=sigmoid, total=  18.6s\n",
      "[CV] C=4, kernel=linear ..............................................\n",
      "[CV] ............................... C=4, kernel=linear, total=  34.7s\n",
      "[CV] C=4, kernel=linear ..............................................\n",
      "[CV] ............................... C=4, kernel=linear, total=  34.5s\n",
      "[CV] C=4, kernel=linear ..............................................\n",
      "[CV] ............................... C=4, kernel=linear, total=  33.9s\n",
      "[CV] C=4, kernel=linear ..............................................\n",
      "[CV] ............................... C=4, kernel=linear, total=  34.6s\n",
      "[CV] C=4, kernel=linear ..............................................\n",
      "[CV] ............................... C=4, kernel=linear, total=  34.5s\n",
      "[CV] C=4, kernel=rbf .................................................\n",
      "[CV] .................................. C=4, kernel=rbf, total=  13.4s\n",
      "[CV] C=4, kernel=rbf .................................................\n",
      "[CV] .................................. C=4, kernel=rbf, total=  12.4s\n",
      "[CV] C=4, kernel=rbf .................................................\n",
      "[CV] .................................. C=4, kernel=rbf, total=  14.0s\n",
      "[CV] C=4, kernel=rbf .................................................\n",
      "[CV] .................................. C=4, kernel=rbf, total=  13.2s\n",
      "[CV] C=4, kernel=rbf .................................................\n",
      "[CV] .................................. C=4, kernel=rbf, total=  13.0s\n",
      "[CV] C=4, kernel=sigmoid .............................................\n",
      "[CV] .............................. C=4, kernel=sigmoid, total=  17.9s\n",
      "[CV] C=4, kernel=sigmoid .............................................\n",
      "[CV] .............................. C=4, kernel=sigmoid, total=  18.1s\n",
      "[CV] C=4, kernel=sigmoid .............................................\n",
      "[CV] .............................. C=4, kernel=sigmoid, total=  17.9s\n",
      "[CV] C=4, kernel=sigmoid .............................................\n",
      "[CV] .............................. C=4, kernel=sigmoid, total=  17.7s\n",
      "[CV] C=4, kernel=sigmoid .............................................\n",
      "[CV] .............................. C=4, kernel=sigmoid, total=  18.4s\n",
      "[CV] C=5, kernel=linear ..............................................\n",
      "[CV] ............................... C=5, kernel=linear, total=  43.9s\n",
      "[CV] C=5, kernel=linear ..............................................\n",
      "[CV] ............................... C=5, kernel=linear, total=  40.1s\n",
      "[CV] C=5, kernel=linear ..............................................\n",
      "[CV] ............................... C=5, kernel=linear, total=  45.6s\n",
      "[CV] C=5, kernel=linear ..............................................\n",
      "[CV] ............................... C=5, kernel=linear, total=  42.0s\n",
      "[CV] C=5, kernel=linear ..............................................\n",
      "[CV] ............................... C=5, kernel=linear, total=  51.2s\n",
      "[CV] C=5, kernel=rbf .................................................\n",
      "[CV] .................................. C=5, kernel=rbf, total=  14.3s\n",
      "[CV] C=5, kernel=rbf .................................................\n",
      "[CV] .................................. C=5, kernel=rbf, total=  14.3s\n",
      "[CV] C=5, kernel=rbf .................................................\n",
      "[CV] .................................. C=5, kernel=rbf, total=  13.9s\n",
      "[CV] C=5, kernel=rbf .................................................\n",
      "[CV] .................................. C=5, kernel=rbf, total=  12.4s\n",
      "[CV] C=5, kernel=rbf .................................................\n",
      "[CV] .................................. C=5, kernel=rbf, total=  12.9s\n",
      "[CV] C=5, kernel=sigmoid .............................................\n",
      "[CV] .............................. C=5, kernel=sigmoid, total=  17.5s\n",
      "[CV] C=5, kernel=sigmoid .............................................\n",
      "[CV] .............................. C=5, kernel=sigmoid, total=  17.6s\n",
      "[CV] C=5, kernel=sigmoid .............................................\n",
      "[CV] .............................. C=5, kernel=sigmoid, total=  17.6s\n",
      "[CV] C=5, kernel=sigmoid .............................................\n",
      "[CV] .............................. C=5, kernel=sigmoid, total=  21.5s\n",
      "[CV] C=5, kernel=sigmoid .............................................\n",
      "[CV] .............................. C=5, kernel=sigmoid, total=  17.7s\n"
     ]
    },
    {
     "name": "stderr",
     "output_type": "stream",
     "text": [
      "[Parallel(n_jobs=1)]: Done  60 out of  60 | elapsed: 35.8min finished\n"
     ]
    },
    {
     "name": "stdout",
     "output_type": "stream",
     "text": [
      "{'C': 5, 'kernel': 'rbf'}\n",
      "Done\n"
     ]
    }
   ],
   "source": [
    "# train the model with SVM\n",
    "# Using parameter grid for parameter tunning\n",
    "\n",
    "clf_svc = GridSearchCV(estimator=svm.SVC(), param_grid={ 'C': [1, 2, 4, 5], 'kernel': [ 'linear', 'rbf', 'sigmoid' ] }, cv=5, verbose=2 ) \n",
    "# train the model\n",
    "clf_svc.fit(X, y)\n",
    "# print the parameters of the best performed model\n",
    "print(clf_svc.best_params_)\n",
    "\n",
    "# make prediction\n",
    "preds = clf_svc.predict(test)\n",
    "image_id = pd.Series(range(1,len(preds)+1))\n",
    "result_2 = pd.DataFrame({'ImageID': image_id,'Label':preds})\n",
    "# save as CSV\n",
    "#result_2.to_csv('result_svc.csv',index = False)\n",
    "print('Done')\n"
   ]
  },
  {
   "cell_type": "code",
   "execution_count": null,
   "metadata": {},
   "outputs": [],
   "source": [
    "from xgboost import XGBClassifier\n",
    "alg = XGBClassifier(learning_rate=0.1, n_estimators=140, max_depth=5,\n",
    "                        min_child_weight=3, gamma=0.2, subsample=0.6, colsample_bytree=1.0,\n",
    "                        objective='binary:logistic', nthread=4, scale_pos_weight=1, seed=27)\n",
    "alg.fit(X_train, y_train, eval_metric='auc')"
   ]
  },
  {
   "cell_type": "code",
   "execution_count": 12,
   "metadata": {},
   "outputs": [],
   "source": [
    "from sklearn.ensemble import RandomForestClassifier\n",
    "from sklearn import metrics\n",
    "\n",
    "n_estimators = [50,60,70,80,90,100,130]\n",
    "accuracies = []\n",
    "for i in n_estimators:\n",
    "    forest_model = RandomForestClassifier(random_state=1, n_estimators=i)\n",
    "    forest_model.fit(X_train, y_train)\n",
    "    predictions = forest_model.predict(X_test)\n",
    "    accuracies.append(metrics.accuracy_score(y_test, predictions))"
   ]
  },
  {
   "cell_type": "code",
   "execution_count": null,
   "metadata": {},
   "outputs": [],
   "source": [
    "plt.plot(n_estimators, accuracies, '-o')\n",
    "plt.xlabel('n_estimators')\n",
    "plt.ylabel('accuracies')\n",
    "plt.show()"
   ]
  },
  {
   "cell_type": "code",
   "execution_count": null,
   "metadata": {},
   "outputs": [],
   "source": [
    "predictions = forest_model.predict(X_test)\n",
    "pred_proba = forest_model.predict_proba(X_test)[:, 1]\n",
    "print(\"Accuracy : %.4g\" % metrics.accuracy_score(y_test, predictions))\n",
    "#print(\"AUC (Test_set)): %f\" % metrics.roc_auc_score(y_test, pred_proba))\n",
    "#print(\"F1 Score (test_set): %f\" % metrics.f1_score(y_test, predictions))"
   ]
  },
  {
   "cell_type": "code",
   "execution_count": null,
   "metadata": {},
   "outputs": [],
   "source": [
    "clf = GridSearchCV(estimator = RandomForestClassifier(),param_grid= {\"criterion\" : [\"gini\",\"entropy\"], \"min_samples_leaf\" : [1,2,3],\n",
    "                                                             \"n_estimators\" : [10,50,100]})\n",
    "clf.fit(X,y)"
   ]
  },
  {
   "cell_type": "code",
   "execution_count": null,
   "metadata": {},
   "outputs": [],
   "source": [
    "predictions = clf.predict(X_test)\n",
    "pred_proba = clf.predict_proba(X_test)[:, 1]\n",
    "print(\"Accuracy : %.4g\" % metrics.accuracy_score(y_test, predictions))"
   ]
  }
 ],
 "metadata": {
  "kernelspec": {
   "display_name": "Python 3",
   "language": "python",
   "name": "python3"
  },
  "language_info": {
   "codemirror_mode": {
    "name": "ipython",
    "version": 3
   },
   "file_extension": ".py",
   "mimetype": "text/x-python",
   "name": "python",
   "nbconvert_exporter": "python",
   "pygments_lexer": "ipython3",
   "version": "3.6.8"
  }
 },
 "nbformat": 4,
 "nbformat_minor": 2
}
